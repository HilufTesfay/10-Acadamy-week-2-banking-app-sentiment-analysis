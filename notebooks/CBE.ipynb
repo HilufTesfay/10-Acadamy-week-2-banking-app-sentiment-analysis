{
 "cells": [
  {
   "cell_type": "code",
   "execution_count": 18,
   "id": "009cfda2",
   "metadata": {},
   "outputs": [
    {
     "name": "stdout",
     "output_type": "stream",
     "text": [
      "(500, 6)\n",
      "['REVIEW-ID', 'REVIEW', 'RATING', 'DATE', 'BANK NAME', 'SOURCE']\n"
     ]
    },
    {
     "data": {
      "text/html": [
       "<div>\n",
       "<style scoped>\n",
       "    .dataframe tbody tr th:only-of-type {\n",
       "        vertical-align: middle;\n",
       "    }\n",
       "\n",
       "    .dataframe tbody tr th {\n",
       "        vertical-align: top;\n",
       "    }\n",
       "\n",
       "    .dataframe thead th {\n",
       "        text-align: right;\n",
       "    }\n",
       "</style>\n",
       "<table border=\"1\" class=\"dataframe\">\n",
       "  <thead>\n",
       "    <tr style=\"text-align: right;\">\n",
       "      <th></th>\n",
       "      <th>REVIEW-ID</th>\n",
       "      <th>REVIEW</th>\n",
       "      <th>RATING</th>\n",
       "      <th>DATE</th>\n",
       "      <th>BANK NAME</th>\n",
       "      <th>SOURCE</th>\n",
       "    </tr>\n",
       "  </thead>\n",
       "  <tbody>\n",
       "    <tr>\n",
       "      <th>0</th>\n",
       "      <td>a7d1c799-ba53-4a0a-a8d6-c5400a009825</td>\n",
       "      <td>A great app. It's like carrying a bank in your...</td>\n",
       "      <td>4</td>\n",
       "      <td>2025-06-07 20:21:52</td>\n",
       "      <td>CBE</td>\n",
       "      <td>Google Play Store</td>\n",
       "    </tr>\n",
       "    <tr>\n",
       "      <th>1</th>\n",
       "      <td>64ed5562-1758-4eb8-9291-8b6edc394118</td>\n",
       "      <td>More than garrantty bank EBC.</td>\n",
       "      <td>4</td>\n",
       "      <td>2025-06-07 18:21:26</td>\n",
       "      <td>CBE</td>\n",
       "      <td>Google Play Store</td>\n",
       "    </tr>\n",
       "  </tbody>\n",
       "</table>\n",
       "</div>"
      ],
      "text/plain": [
       "                              REVIEW-ID  \\\n",
       "0  a7d1c799-ba53-4a0a-a8d6-c5400a009825   \n",
       "1  64ed5562-1758-4eb8-9291-8b6edc394118   \n",
       "\n",
       "                                              REVIEW  RATING  \\\n",
       "0  A great app. It's like carrying a bank in your...       4   \n",
       "1                      More than garrantty bank EBC.       4   \n",
       "\n",
       "                  DATE BANK NAME             SOURCE  \n",
       "0  2025-06-07 20:21:52       CBE  Google Play Store  \n",
       "1  2025-06-07 18:21:26       CBE  Google Play Store  "
      ]
     },
     "execution_count": 18,
     "metadata": {},
     "output_type": "execute_result"
    }
   ],
   "source": [
    "import pandas as pd\n",
    "df=pd.read_csv(\"../data/raw/CBE.csv\")\n",
    "print(df.shape)\n",
    "print(list(df.columns))\n",
    "df.head(2)\n",
    "\n"
   ]
  },
  {
   "cell_type": "code",
   "execution_count": 19,
   "id": "fd7a7a4e",
   "metadata": {},
   "outputs": [
    {
     "name": "stdout",
     "output_type": "stream",
     "text": [
      "missing valuse REVIEW-ID    0\n",
      "REVIEW       0\n",
      "RATING       0\n",
      "DATE         0\n",
      "BANK NAME    0\n",
      "SOURCE       0\n",
      "dtype: int64\n",
      "Number of duplicated reviews: 109\n",
      "                               REVIEW-ID REVIEW  RATING                 DATE  \\\n",
      "15  aa72fd94-aca8-48b2-bae2-29ad7633c7fb   good       5  2025-06-04 16:00:15   \n",
      "17  88a64315-9de3-4a35-ac27-5ff37c2833b6   good       5  2025-06-04 14:59:40   \n",
      "24  4beee0dd-05ad-474c-bdff-0146723f2179   good       5  2025-06-03 11:32:52   \n",
      "44  058173b0-3379-42c8-9ff7-cea64a66895c   good       5  2025-05-27 17:48:15   \n",
      "50  ab728a43-6a39-41aa-a872-3e2a6154dc5a   Good       5  2025-05-25 19:44:05   \n",
      "\n",
      "   BANK NAME             SOURCE  \n",
      "15       CBE  Google Play Store  \n",
      "17       CBE  Google Play Store  \n",
      "24       CBE  Google Play Store  \n",
      "44       CBE  Google Play Store  \n",
      "50       CBE  Google Play Store  \n"
     ]
    }
   ],
   "source": [
    "#checking for missing values \n",
    "print(\"missing valuse\",df.isnull().sum())\n",
    "#checking for duplicate values\n",
    "duplicate_reviews = df[df.duplicated(subset=[\"REVIEW\"])]\n",
    "print(\"Number of duplicated reviews:\", duplicate_reviews.shape[0])\n",
    "print(duplicate_reviews.head())"
   ]
  }
 ],
 "metadata": {
  "kernelspec": {
   "display_name": "venv",
   "language": "python",
   "name": "python3"
  },
  "language_info": {
   "codemirror_mode": {
    "name": "ipython",
    "version": 3
   },
   "file_extension": ".py",
   "mimetype": "text/x-python",
   "name": "python",
   "nbconvert_exporter": "python",
   "pygments_lexer": "ipython3",
   "version": "3.12.3"
  }
 },
 "nbformat": 4,
 "nbformat_minor": 5
}
